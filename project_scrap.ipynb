{
 "cells": [
  {
   "cell_type": "markdown",
   "metadata": {},
   "source": [
    "#### Importing the required Libraries"
   ]
  },
  {
   "cell_type": "code",
   "execution_count": 1,
   "metadata": {},
   "outputs": [],
   "source": [
    "from bs4 import BeautifulSoup\n",
    "import requests\n",
    "import pandas as pd\n",
    "import time\n",
    "from nltk.tokenize import sent_tokenize\n",
    "import spacy\n",
    "import textacy\n",
    "import datetime\n",
    "nlp = spacy.load('en_core_web_sm')"
   ]
  },
  {
   "cell_type": "markdown",
   "metadata": {},
   "source": [
    "#### This Function specifically scrapes out the link and get the data from the news link displayed on Google"
   ]
  },
  {
   "cell_type": "code",
   "execution_count": 22,
   "metadata": {},
   "outputs": [],
   "source": [
    "def content(link):\n",
    "    \n",
    "    \"\"\"\n",
    "        This function goes inside the link of every text and scraps data from the each news headline\n",
    "        in parallel\n",
    "        \n",
    "    \"\"\"\n",
    "    try:\n",
    "        # Requesting the Scraped Link\n",
    "        time.sleep(2)     # Reducing number of pings to avoid ip blocks though not neccessary at this stage\n",
    "        source = requests.get(link[1:], verify = False)\n",
    "        \n",
    "        # Check if the request is successful\n",
    "        if source.status_code == 200:\n",
    "            \n",
    "            # Parsing the link text\n",
    "            source = BeautifulSoup(source.text, 'lxml')\n",
    "            context = ' '\n",
    "            \n",
    "            # Finding the Paragraph text using 'p' tag\n",
    "            for data in source.find_all('p'):\n",
    "                \n",
    "                # Implementing a bit of cleaning text at initial stage\n",
    "                if len(data) < 2:\n",
    "                    data = data.text.replace('  ', '')\n",
    "                    context = context + ' ' + data.rstrip().lstrip().rstrip('\\n').lstrip('\\n')                   \n",
    "        else:\n",
    "            \n",
    "            print('Requested site for content did not respond. Status Code is ', source.status_code)\n",
    "    except Exception as e:\n",
    "        print(str(e))\n",
    "            \n",
    "    return context"
   ]
  },
  {
   "cell_type": "markdown",
   "metadata": {},
   "source": [
    "#### This function helps in retrieving the time and news source"
   ]
  },
  {
   "cell_type": "code",
   "execution_count": 27,
   "metadata": {},
   "outputs": [],
   "source": [
    "def retrieve_time(source):\n",
    "    \n",
    "    for element in source.find_all('div', class_ = 'slp'):\n",
    "        #for elem in element.find_all('span'):\n",
    "        news_source, time = element.text.split('-')[0].rstrip().lstrip(), element.text.split('-')[1].rstrip().lstrip()\n",
    "        print(news_source, time, type(news_source))\n",
    "        #print('{}-{}'.format(news_source, time))\n",
    "        if 'hours' in time or 'minutes' in time or 'seconds' in time or 'hour' in time or 'minute' in time or 'second' in time:\n",
    "            return news_source, str(datetime.datetime.utcnow().date())\n",
    "        elif 'days' in time or 'day' in time:\n",
    "            return news_source, str((datetime.datetime.utcnow() - datetime.timedelta(days = int(time.split()[0]) + 1)).date())\n",
    "        else:\n",
    "            return news_source, time"
   ]
  },
  {
   "cell_type": "markdown",
   "metadata": {},
   "source": [
    "#### This function requests the original google page for the search results"
   ]
  },
  {
   "cell_type": "code",
   "execution_count": 28,
   "metadata": {},
   "outputs": [],
   "source": [
    "def scrap_headline_window(keys, number_of_news, days):\n",
    "    \n",
    "    \"\"\"\n",
    "        This function hits the google page and scraps the \n",
    "    \"\"\"\n",
    "\n",
    "    # Defining a dataframe to store the data and later saving it to excel\n",
    "    test_dataframe = pd.DataFrame(columns = ['News', 'Content', 'Link', 'News_Source', 'Time'])\n",
    "    \n",
    "    # Putting it into try-catch to handle any error    \n",
    "    try:\n",
    "        \n",
    "        # Looping through the pages\n",
    "        for page in range(0, number_of_news, 10):\n",
    "            print('Scraping_headline_window')\n",
    "        \n",
    "        # Defining a baseline URL \n",
    "            url= 'https://www.google.com/search?q=insurance+%22{}%22&rlz=1C1GGRV_enIN790IN790&tbs=qdr:d{}&tbm=nws&ei=FlJhXLiKNNDikgXCkZTwDA&start={}&sa=N&ved=0ahUKEwi47dT2v7PgAhVQsaQKHcIIBc4Q8tMDCFE&biw=1440&bih=758&dpr=1'.format(keys, days, page)\n",
    "\n",
    "        # Hitting the URL and Parsing it\n",
    "            source = requests.get(url)\n",
    "            time.sleep(5)      # Reducing overload condition on the server else the IP might get blocked\n",
    "\n",
    "            # Checking the Status code for successful request\n",
    "            if source.status_code == 200:\n",
    "                print('Request Successful')\n",
    "\n",
    "                source = BeautifulSoup(source.text, 'lxml')\n",
    "                # Scraping the news and the respective links\n",
    "                for elements in source.find_all('div', class_ = 'g'):\n",
    "                    data = []\n",
    "                    heading = elements.find('h3').text\n",
    "                    link = '.' + elements.find('a')['href'].split('=')[1][:-3]\n",
    "                    context = cleaning_text(content(link))\n",
    "                    news_source, event_time = retrieve_time(elements)\n",
    "                    data.append([heading, context, link, news_source, event_time])\n",
    "                    sample_dataframe = pd.DataFrame(data = data, columns = ['News', 'Content', 'Link', 'News_Source', 'Time'])\n",
    "                    test_dataframe = pd.concat([test_dataframe, sample_dataframe], axis = 0)\n",
    "                    print(data)\n",
    "                    print()\n",
    "\n",
    "\n",
    "            else:\n",
    "\n",
    "                print('Request failed with status code', source.status_code())\n",
    "\n",
    "    except Exception as e:\n",
    "        \n",
    "        print(str(e))\n",
    "        pass\n",
    "\n",
    "        # Writing to an Excel File \n",
    "\n",
    "#    test_dataframe.to_excel('D:\\\\Users\\\\kekishor\\\\Desktop\\\\project\\\\filtered_extract\\\\' + name + '.xlsx')    \n",
    "    return test_dataframe"
   ]
  },
  {
   "cell_type": "markdown",
   "metadata": {},
   "source": [
    "#### Implementing the Cleaning Process"
   ]
  },
  {
   "cell_type": "code",
   "execution_count": 29,
   "metadata": {},
   "outputs": [],
   "source": [
    "def cleaning_text(content):\n",
    "    \n",
    "    \"\"\"\n",
    "    \n",
    "        Cleaning the text process involves the following steps\n",
    "            \n",
    "            -- Implementation of striping spaces and new line\n",
    "                    This step has been implemented in the function 'Content' while scraping the data\n",
    "            -- Implementation of sentence tokenizer \n",
    "                    To process each sentence individually\n",
    "            -- Implementation of stopwords\n",
    "                    These keywords are manually prepared for the obvious keys which shows waste data\n",
    "            -- Sentence Less than 4 words should be removed. High chances of being an ad\n",
    "            \n",
    "    \"\"\"\n",
    "    filtered_message = ''  # Resetting the filtered message for every token\n",
    "    \n",
    "    # Implementing the doc for using it to split using spacy\n",
    "    \n",
    "    try:          # Wrapping this because some of the content field is empty\n",
    "        \n",
    "        doc = nlp(content)\n",
    "        for word in doc.sents:\n",
    "            \n",
    "            # Wrapping in try-catch to ensure exception handling\n",
    "            try:\n",
    "                \n",
    "                # Since the word is of span class, thus type casting it to be a string\n",
    "                word = str(word)\n",
    "                spam = 0      # Setting the spam flag, whenever it is set to 1, the sentence will be discarded\n",
    "                    \n",
    "                for ad_word in stopword:     # Checking for stopword\n",
    "                    if (ad_word in word.lower()):\n",
    "                        spam = 1\n",
    "                        break\n",
    "                        \n",
    "                if len(word.split())< 5:  # Checking for length of the sentence\n",
    "                    spam = 1\n",
    "                \n",
    "                if spam == 0:     # If flag does not changes, then adding it to the filtered message\n",
    "                    filtered_message = filtered_message + word + ' '\n",
    "                    \n",
    "            except Exception as e:\n",
    "                \n",
    "                #print(str(e))\n",
    "                pass\n",
    "            \n",
    "        #print(filtered_message)\n",
    "        filtered_message = filtered_message.encode('ascii', 'ignore').decode('unicode_escape')\n",
    "        filtered_message = textacy.preprocess.remove_punct(filtered_message, marks = '!,:;-()[]*{}\\/')\n",
    "        filtered_message =  textacy.preprocess_text(filtered_message, fix_unicode=True, lowercase=True, transliterate=True, no_urls=True, no_emails=True, no_phone_numbers=True, no_currency_symbols=True, no_punct=True, no_contractions=True, no_accents=True)\n",
    "        return filtered_message\n",
    "    \n",
    "    except Exception as e:          # Returning space when the content is empty \n",
    "        \n",
    "        print('Exception Occured')\n",
    "        print(str(e))\n",
    "        #print(content)\n",
    "        return ' '"
   ]
  },
  {
   "cell_type": "markdown",
   "metadata": {},
   "source": [
    "#### Amount of window for which we need the data (No of Days)"
   ]
  },
  {
   "cell_type": "code",
   "execution_count": 6,
   "metadata": {},
   "outputs": [],
   "source": [
    "days = int(input('Enter the Window for which we need to scrap the news '))"
   ]
  },
  {
   "cell_type": "markdown",
   "metadata": {},
   "source": [
    "#### Specify the Number of News Headline which needs to be scraped"
   ]
  },
  {
   "cell_type": "code",
   "execution_count": 7,
   "metadata": {},
   "outputs": [],
   "source": [
    "number_of_news = int(input('Enter the number of news headlines to be stored '))"
   ]
  },
  {
   "cell_type": "markdown",
   "metadata": {},
   "source": [
    "#### Keys for which we need the data"
   ]
  },
  {
   "cell_type": "code",
   "execution_count": 8,
   "metadata": {},
   "outputs": [],
   "source": [
    "keywords = [input('Enter the keyword that you would like to search')]"
   ]
  },
  {
   "cell_type": "markdown",
   "metadata": {},
   "source": [
    "#### Execute this block only if you haven't executed the above block else the value will be overriden"
   ]
  },
  {
   "cell_type": "code",
   "execution_count": 12,
   "metadata": {},
   "outputs": [],
   "source": [
    "keywords = ['ACCIDENT', 'PREMIUM' , 'SERVICES', 'PRODUCT', 'RISK', 'RATE', 'BROKER', \n",
    "            'BUSINESS', 'CANCELLATION', 'CLAIM', 'CLAUSE', 'COVERAGE', 'INSURANCE', 'FORGERY', \n",
    "            'GRACE PERIOD', 'INDEMNITY', 'INSURABILITY', 'LAPSE', 'LESSOR', 'LIABILITY', 'LOSS', \n",
    "            'MORTGAGE', 'POLICY', 'REIMBURSEMENT', 'REINSTATEMENT', 'RENEWAL', 'SETTLEMENT', 'VALUATION', \n",
    "            'WAIVER', 'ACQUISITION']"
   ]
  },
  {
   "cell_type": "markdown",
   "metadata": {},
   "source": [
    "#### This stopwords file can be enhanced more to enrich the data"
   ]
  },
  {
   "cell_type": "code",
   "execution_count": 9,
   "metadata": {},
   "outputs": [],
   "source": [
    "with open('stopwords.txt') as ads_word:\n",
    "    \n",
    "    \"\"\"    \n",
    "        The sentences containing these words will removed from the content we got        \n",
    "    \"\"\"   \n",
    "    \n",
    "    stopword = []\n",
    "    for i in ads_word.readlines():\n",
    "        if len(i) > 1:\n",
    "            stopword.append(i)"
   ]
  },
  {
   "cell_type": "markdown",
   "metadata": {},
   "source": [
    "#### Loop all the company names with each of these keywords (Might take a bit)"
   ]
  },
  {
   "cell_type": "code",
   "execution_count": 30,
   "metadata": {},
   "outputs": [
    {
     "name": "stdout",
     "output_type": "stream",
     "text": [
      "Scraping_headline_window\n",
      "Request Successful\n"
     ]
    },
    {
     "name": "stderr",
     "output_type": "stream",
     "text": [
      "C:\\Users\\kekishor\\Anaconda3\\lib\\site-packages\\urllib3\\connectionpool.py:858: InsecureRequestWarning: Unverified HTTPS request is being made. Adding certificate verification is strongly advised. See: https://urllib3.readthedocs.io/en/latest/advanced-usage.html#ssl-warnings\n",
      "  InsecureRequestWarning)\n"
     ]
    },
    {
     "name": "stdout",
     "output_type": "stream",
     "text": [
      "Moneycontrol.com 4 days ago <class 'str'>\n",
      "[['A more holistic approach needed to to simplify health insurance claims', 'last month i attended a conference organised by a health insurer during a panel discussion the founder of a large broker shared his personal experience of making a health insurance claim in the us he said that when the doctor gave the green signal for discharge his family was free to go i did not have to wait for a tpa desk to send a discharge summary insurer to ask questions the hospital to answer and finally haggle over deductions i could just pick up my bag and leave he said in contrast the discharge in indian hospitals is difficult patients wait between 3 to 6 hours for approvals to come in sometimes patients give up pay the hospital and leave only to go through a long claim reimbursement process later the panel deliberated a few interesting and some contentious issues but all had a common view we are meant to serve as a bridge between the policyholder care receiver the hospital and care giver after the panel discussion i spoke to many executives for their assessment of how industry fares on serving as this bridge between insurers and patients the good news is that several insurers and service providers belong to the challengers camp there are several ideas being discussed in the industry where the patients experience can improve dramatically fixed benefit product design for health insurance can address several friction areas of a claim in a fixed benefit product occurrence of the insured event such as hospitalization or diagnosis of a specified illness itself renders a claim payable so there is no ambiguity around deductions hospital cash is a type of fixed benefit product that is currently available however its drawback is low cash payout most current products have a payout between rs 2 000 to 4 000 for each day of hospitalisation this is inadequate to cover medical expenses in metros at least rs 10 000 per day is required to cover direct medical expenses and incidentals the claims process for existing products can be digitised a minor appendix operation costs around rs 20 000 while a heart surgery is ten times more expensive for most insurers the process of reimbursement or cashless is identical for both claims to make this process easier especially for small value claims auto adjudication should happen original claim documents can be marked by the policyholder and scanned insurers should process the claim based on scanned copies this saves time effort and money of patients investigation can happen at random and after settlement a person who makes a claim appreciates the value of insurance even more there are over ten million health claims each year in itself an opportunity to build confidence in health insurance the risk of policy cancellation and loss of continuity benefits are substantive deterrents to filing fraudulent small value claims a few insurers have rolled out controlled initiatives in this direction finally there has to be deeper integration between insurers and hospitals the patient should be able to walk out of the hospital immediately after treatment settlement between hospital and insurer should happen without holding a patient hostage this can be done by a combination of physical and virtual concierges dedicated to a limited number of hospitals a pilot on these lines is underway with a closed hospital network aside from physical distress to the patient health issues create mental trauma for both the patient and her family being at hospital surrounded by illness is unpleasant insurers have to be empathetic towards patient needs and work to simplify claim settlement a quick discharge and early payout will help mitigate this stress for policyholders it is this peace of mind that insurance is meant to provide podcast | pick of the day yes bank says yes to ravneet gill copyright reproduction of news articles photos videos or any other content in whole or in part in any form or medium without express writtern permission of moneycontrol com is prohibited', '.https://www.moneycontrol.com/news/business/personal-finance/a-more-holistic-approach-needed-to-to-simplify-health-insurance-claims-3495901.html', 'Moneycontrol.com', '2019-02-06']]\n",
      "\n"
     ]
    },
    {
     "name": "stderr",
     "output_type": "stream",
     "text": [
      "C:\\Users\\kekishor\\Anaconda3\\lib\\site-packages\\urllib3\\connectionpool.py:858: InsecureRequestWarning: Unverified HTTPS request is being made. Adding certificate verification is strongly advised. See: https://urllib3.readthedocs.io/en/latest/advanced-usage.html#ssl-warnings\n",
      "  InsecureRequestWarning)\n"
     ]
    },
    {
     "name": "stdout",
     "output_type": "stream",
     "text": [
      "ABC News 1 day ago <class 'str'>\n",
      "[[\"North Queensland flood victims need banks and insurers to be 'good ...\", 'banks and insurers should lift their socks and show compassion to north queenslanders affected by the floods says deputy premier jackie trad insurers had received 13 560 claims as of 10 00am on sunday with losses estimated at usd165 million the insurance council of australia ica said the council said insurers had already paid more than usd16 million in support and emergency accommodation to policyholders the people of townsville the people in the north west are traumatised and they are doing it tough right now ms trad said what they want from their insurance companies and what they want from their banks is sympathy and they want compassion and they want a responsive organisation that understands that they are going through a traumatised event how many more natural disasters how many more queenslanders are going to be left without home and contents having to rebuild their lives without the assistance of insurance companies when they have paid so much money ms trad called on banks and insurers to be good corporate citizens as we have seen in the recent banking royal commission report banks insurance companies financial lenders mortgage brokers they all need to lift their socks and start treating customers appropriately she said there may be some definitional differences in terms of insurance policies but right now at this moment in time we know that australians are crying out for a higher standard of ethics and a higher standard of responsiveness from their financial institutions it starts here in queensland in the north and the north west australian banking association aba chief executive anna bligh a former queensland premier said in a statement that australia s banks stood ready to help farmers including cattle farmers after suffering through an extensive drought many queensland cattle farmers have now been cruelly devastated by these floods ms bligh said banks stand ready to help cattle farmers and others affected by these floods and other natural disasters through deferred loan repayments waiving fees and other arrangements banks have dedicated hardship teams ready to assist however it s important that customers contact their bank directly to flag they are experiencing hardship ica chief executive officer rob whelan said in a statement he had held talks with ms trad about its catastrophe declaration insurance claims and flood cover he said he also wished to assure lnp leader deb frecklington that insurers were doing their best to help all customers whether or not they had purchased flood cover i have explained that flood insurance cover is readily available to all householders and businesses in townsville he said this cover is risk rated the same as in any other part of australia customers who decided against purchasing flood cover or chose to opt out should still lodge a claim through their insurer or insurance broker most policies include storm cover mr whelan said where flood cover was not purchased it would typically be tested by the insurer through an independent hydrology process this will determine if the inundation that caused the damage is to be classified as flood water or as storm water he said mr whelan said several insurance company chief executives had already visited townsville to talk to customers and he expected to visit this week to continue discussions with the state and local government representatives the ica said it planned to hold two insurance forums in townsville to provide claims guidance to household and commercial policyholders ms trad said fodder drops to stranded cattle were also underway in north west queensland describing the reconstruction effort ahead as immense they are an incredibly important part of our state the recovery and the reconstruction and the help that will be required in the north west is just immense ms trad said seeing the loss of livestock which in essence is a drop of their economic capability is devastating agforce chief executive michael guerin said there were hundreds of thousands of dead animals we know that there are communities struggling to cope with that he said how many animals we could have saved if that fodder had left earlier we will never know some of those animals have been standing in mud and on small outcrops for up to seven days mr guerin said it had never seen anything of this scale in the beef industry it is something like three times the size of tasmania or more than the size of victoria the area that has been flooded mr guerin said ms frecklington said it was time for the insurance companies to ditch their tricky tactics and pay out the policies we have got livestock that are dying in need of feed and yet we have got a plane full of fodder sitting on the tarmac she said rural aid said it would distribute hay for flood affected livestock across the region for as long as needed spokesman richard forbes said about 1 500 bales would be delivered to a number of properties it s absolutely crucial that we get it distributed as quickly as possible he said you can not really describe what i am hearing from farmers in terms of the devastation i do not think this area has seen anything like this just devastating stuff there are cattle out there that can still be saved meanwhile hope is fading in the search to find 35 year old justin scott missing in floodwaters near ayr since friday evening a major water and air search has been launched of the area which is still affected by recent flooding mr scott s family and local boaties joined water police swift water rescue crews and two helicopters on saturday there has been no sign of mr scott as the search continues on sunday abc teams share the story behind the story and insights into the making of digital tv and radio content read about our editorial guiding principles and the enforceable standard our journalists follow coalition friendly independents are giving life long centre right voters a way to break ranks could tony abbott be the next scalp claimed for erin hoare friday s return to the field was an emotional rollercoaster but there was one thing that stood out from the centre of the action with an ageing population but no dedicated aged care facility on christmas island its chinese community is worried that a crisis is brewing if nothing is done federal small business minister michaelia cash will be cross examined by the australian workers union this week as they fight to shut down what they say is a politically motivated investigation', '.https://www.abc.net.au/news/2019-02-10/queensland-floods-banks-urged-to-be-good-corporate-citizens/10796944', 'ABC News', '2019-02-09']]\n",
      "\n"
     ]
    },
    {
     "name": "stderr",
     "output_type": "stream",
     "text": [
      "C:\\Users\\kekishor\\Anaconda3\\lib\\site-packages\\urllib3\\connectionpool.py:858: InsecureRequestWarning: Unverified HTTPS request is being made. Adding certificate verification is strongly advised. See: https://urllib3.readthedocs.io/en/latest/advanced-usage.html#ssl-warnings\n",
      "  InsecureRequestWarning)\n"
     ]
    },
    {
     "name": "stdout",
     "output_type": "stream",
     "text": [
      "RACQ Live 1 day ago <class 'str'>\n",
      "[['Influx of insurance claims for flood damage', 'follow us as locals continued to count the cost of the north queensland floods racq urged affected members who had not already started their insurance claim to kick off the process as of sunday racq had received more than 2100 insurance claims for damage to property and motor vehicles townsville suburbs including idalia rosllea and hermit park were among those hardest hit making up almost 850 of the total claims alone racq spokesperson paul turner said the club expected further claims from these areas as more people returned home to assess the damage the flood clean up what to do when you return home as more people assess property damage were expecting to hear from more of our members in these locations mr turner said our claims assessors and builders have begun to assess flood damage in townsville and were working as fast and as hard as possible to get to all our members', '.https://live.racq.com.au/2019/02/influx-of-insurance-claims-for-flood-damage/', 'RACQ Live', '2019-02-09']]\n",
      "\n"
     ]
    },
    {
     "name": "stderr",
     "output_type": "stream",
     "text": [
      "C:\\Users\\kekishor\\Anaconda3\\lib\\site-packages\\urllib3\\connectionpool.py:858: InsecureRequestWarning: Unverified HTTPS request is being made. Adding certificate verification is strongly advised. See: https://urllib3.readthedocs.io/en/latest/advanced-usage.html#ssl-warnings\n",
      "  InsecureRequestWarning)\n"
     ]
    },
    {
     "name": "stdout",
     "output_type": "stream",
     "text": [
      "Connected to India 1 hour ago <class 'str'>\n",
      "[['Pravasi insurance settles 812 claims to the tune of INR 633 million', 'as many as 812 insurance claims of deaths and disabilities among the indian professionals emigrating to various countries have been settled in past four years under pravasi bharatiya bima yojana scheme responding to a query in rajya sabha indian minister of state for external affairs gen retired v k singh informed the house that an amount to the tune of inr 633 54 million has been disbursed by the insurance companies against these claims in the given period on that other hand the companies also collected a premium of inr 802 55 million during the same period from 1 april 2014 till 31 december 2018 under pravasi bharatiye bima yojana a mandatory insurance scheme for all emigration check required ecr category professionals and workers going to ecr countries the question was asked by anto antony punnathaniyil a congress mp from kerala who wanted to know whether the government was implementing any scheme called pravasi bharatiya bima yojana pbby and whether the government has any record regarding the claims settled under pbby during the last five years replying to the question the minister said the insurance companies only maintain consolidated figures of settlement of claims and not the state wise details the scheme provides an insurance cover of 10 lakhs in case of accidental death or permanent disability and few other benefits at a nominal insurance premium of inr 275 and inr 375 for a period of two and three years respectively the scheme initially launched in 2003 has been amended in 2006 2008 and 2017 with the overarching objective of expanding the benefits for emigrant workers as per revised scheme pbby 2017 operational since august 1 2017 has made settlement of claims simpler for the benefit of our workers and is aimed at ensuring expeditious settlement of claims the minister said the revised scheme has also been made compulsory for various professions falling under work categories under section 2 o of emigration act 1983 irrespective of the passport categories pbby 2017 also includes global insurance coverage irrespective of employer and location has facility for online renewal and a simplified process for certification of accidental death or permanent disability the scheme is now more beneficial for emigrant workers and is aimed at ensuring an expeditious settlement of claims some of the salient features of pbby 2017 are the insured person shall be covered for a sum of rs 10 00 lakhs in the event of accidental death or permanent disability leading to loss of employment while in employment abroad irrespective of change of employer location of insured person certification of accidental death or permanent disability by indian missions and posts abroad shall be accepted by the insurance companies medical insurance cover including injuries sickness ailment diseases available upto inr up to inr 50 000 per hospitalization repatriation cover for medically unfit premature termination of employment actual one way economy class air fare to the nearest international airport in india family hospitalization in india available upto inr 50 000 for spouse and first two children upto 21 years of age maternity expenses benefit to women emigrants available upto inr 50 000 reimbursement of return economy class air fare to the nearest international airport to one attendant in case of emigrants accidental death or permanent disability legal expenses on litigation related to emigrants overseas employment admissible upto inr 45 000 provision for on line renewal of pbby policy pradeep ranahas worked asa journalist with news agencies uni and pti newspapers indian express and the times of india and television channel nhk as south asia correspondent he has also worked as media analyst at us embassy and edited several magazines and a medical handbook which service do you use to transfer money for personal use to india contribute an article meet piyush gupta digital banking champion pm modi to award medals to bharat ko janiye quiz winners at pbd sushma swaraj indian american rajesh subramaniam appointed as president and ceo of fedex express spotify makes deal with t series for indian music desi students experience of sunny singapore varanasi decked up welcomes indian diaspora to pbd 2019 meet piyush gupta digital banking champion an astute business leader piyush gupta ceo and director dbs group was one of the first banking sector honchos to usher a forceful watch the first ever 3d poster of an indian comedy the announcement of indias first comedy releasing in 3d to new york was done in an interesting way a chat featuring the cast manikarnika music launch kangana s journey from ruler to warrior showcased in vijayi bhava the indomitable spirit and brave heart of kangana ranaut s rani laxmi bai are perfectly highlighted as she trains her army of women apsaras arts invites audiences to an intimate game of parama padam connected to india speaks to mohanapriyan thavagarajah and aravinth kumarasamy from apsaras arts on their upcoming solo dance production deshpremjatao says prasoon joshi at manikarnika album launch in what looked like an extempore thought the multi talented prasoon joshi launched a hashtag deshpremjatao at the music launch of the film', '.https://www.connectedtoindia.com/pravasi-insurance-settles-812-claims-to-the-tune-of-inr-633-million-5106.html', 'Connected to India', '2019-02-11']]\n",
      "\n"
     ]
    },
    {
     "name": "stderr",
     "output_type": "stream",
     "text": [
      "C:\\Users\\kekishor\\Anaconda3\\lib\\site-packages\\urllib3\\connectionpool.py:858: InsecureRequestWarning: Unverified HTTPS request is being made. Adding certificate verification is strongly advised. See: https://urllib3.readthedocs.io/en/latest/advanced-usage.html#ssl-warnings\n",
      "  InsecureRequestWarning)\n"
     ]
    },
    {
     "name": "stdout",
     "output_type": "stream",
     "text": [
      "The Hindu 3 days ago <class 'str'>\n",
      "[['Weather queries to back insurance claims on the rise', 'the regional meteorological centre in the last one year has seen an increase in the number of requests to share weather data from applicants for filing insurance claims in the last one year the meteorological department has received 236 queries mostly pertaining to data for insurance claims for damages during natural calamities for research activity and for development projects by government departments officials of the department said though the total number of queries had dipped compared to 2017 there was a rise in requests for insurance claims the department gets applications seeking weather data to claim insurance for damage to property crops vehicles and fishing boats during natural disasters of late we have seen a spurt in applications seeking weather data for submitting insurance claims this could be due to increase in awareness about the departments service and also more weather occurrences like thunderstorms said n puviarasan director area cyclone warning centre people make use of the daily and seasonal data as evidence for the cause of damage to their crops boats and other property the department provides satellite or radar pictures from the nearest weather observatory of the site the department usually gets more queries during the monsoon months and during april and may when thunderstorm activity is common we did not receive requests related to damage during cyclone gaja because it was a disaster that everyone had heard about our data is to be used as evidence for little known weather phenomenon said mr puviarasan several passengers too have begun approaching the department for seeking compensation in case of cancelled flights citing bad weather in two instances airlines had cited fog for cancelling flights but the department had not issued such warnings we often get calls from farmers fishermen and even cracker manufacturers for weather forecast frequent weather alerts have led to a dip in the number of applications from fishermen he said printable version | feb 11 2019 8 03 34 pm the hindu to also perform songs to mark gandhis birth anniversary', '.https://www.thehindu.com/news/cities/chennai/weather-queries-to-back-insurance-claims-on-the-rise/article26208167.ece', 'The Hindu', '2019-02-07']]\n",
      "\n"
     ]
    },
    {
     "name": "stderr",
     "output_type": "stream",
     "text": [
      "C:\\Users\\kekishor\\Anaconda3\\lib\\site-packages\\urllib3\\connectionpool.py:858: InsecureRequestWarning: Unverified HTTPS request is being made. Adding certificate verification is strongly advised. See: https://urllib3.readthedocs.io/en/latest/advanced-usage.html#ssl-warnings\n",
      "  InsecureRequestWarning)\n"
     ]
    },
    {
     "name": "stdout",
     "output_type": "stream",
     "text": [
      "Insurance Business New Zealand 4 days ago <class 'str'>\n",
      "[['Revealed: Weirdest NZ pet insurance claims of 2018', 'southern cross pet insurance has released its 2018 most unusual pet insurance claims report and it features claims ranging from a french bulldog eating a roll of dental floss to a veterinarian treating their first case of an intersex cat the list shows how even everyday accidents can end up costing a lot of money at the veterinary clinic southern cross pet insurance general manager anthony mcphail said most of the claims we process each year are for fairly typical illnesses and routine checks but we also receive some that surprise us particularly the range of ways pets find to test the limits of their digestive system he noted mcphail explained while claims such as these are sometimes amusing they can require a serious procedure such as surgery which is stressful for both the pet and their owner the insurers 10 most unusual petcare claims include firm hit by catastrophes but its not all bad news in these times no company is truly insulated from whats happening in other regions insurer is the last of several big names to pay out for bankrupt religious group', '.https://www.insurancebusinessmag.com/nz/news/breaking-news/revealed-weirdest-nz-pet-insurance-claims-of-2018-124197.aspx', 'Insurance Business New Zealand', '2019-02-06']]\n",
      "\n"
     ]
    },
    {
     "name": "stderr",
     "output_type": "stream",
     "text": [
      "C:\\Users\\kekishor\\Anaconda3\\lib\\site-packages\\urllib3\\connectionpool.py:858: InsecureRequestWarning: Unverified HTTPS request is being made. Adding certificate verification is strongly advised. See: https://urllib3.readthedocs.io/en/latest/advanced-usage.html#ssl-warnings\n",
      "  InsecureRequestWarning)\n"
     ]
    },
    {
     "name": "stdout",
     "output_type": "stream",
     "text": [
      "Fin24 27 Jan 2019 <class 'str'>\n",
      "[['Insurance claims 101: Your questions answered', 'links to the websites of major municipalities which have published schedules how jeff bezos could take down the national enquirer if he wanted to sign up to receive fin24 s top news in your inbox every morning filing an insurance claim may not have been on your to do list but if\\nyou do end up having to do it ideally you want as few hiccups as possible nthabiseng moloi miway insurance head of marketing and brand gave fin24\\ninsight into some of the more commonly asked questions about insurance claims i\\ninstalled a vehicle tracker so why was my claim rejected on the basis that my\\ncar did not meet security requirements not all\\ntracking devices are created equal says moloi certain insurers may insist on\\nspecific models given the variance in functionality whereas some track speed others are optimised to detect impact and others can locate the vehicle ensure that\\nyour tracking device is always in working order and that it meets the\\nrequirements outlined in your specific insurance contract why has\\nmy contract been cancelled due to multiple claims an\\ninsurance contract puts the onus on both parties to fulfill their end of the\\nbargain with monthly premiums devised to cover the identified level of risk multiple\\nclaims suggest to the insurer that the level of risk outweighs the feasibility\\nof the contract which in selected cases can lead to the cancellation of a\\npolicy why has\\nmy contract been cancelled due to non disclosure in some\\ncases claimants have either given false information with regards to the nature\\nof their loss or made false statements upfront so as to lower their monthly\\npremiums policy\\ncancellation is not something insurers take lightly but in instances where\\nclaimants have been found not to have disclosed vital information or have\\nsubmitted fraudulent claims they can cancel a policy says moloi what is\\na regular driver in most\\ncases vehicles are only insured conditionally based on who is driving the car so for instance should it be insured to cover a driver over 35 who primarily\\nuses it to get to and from work the level of risk would be significantly\\ndifferent to that of a 19 year old there is\\nscope for cover in cases where the car has been loaned to someone other than\\nthe regular driver but if it is found that the car has in fact been driven\\nmore often by someone else the insurance contract can be rendered null and\\nvoid if you have a car often driven by multiple drivers make provision for\\nthis in your policy at the outset why am i\\nnot being paid the settlement amount i was insured for the\\ninsurer s duty is to place the insured in the same position in which they would\\nhave been prior to an accident or theft therefore says moloi policies seldom provide cover for the purchase price of an insured\\nvehicle given the depreciation in value cars are insured rather for their\\nretail market or trade values retail\\nis the price a vehicle carries on a showroom floor market\\nis the average of trade and retail trade\\nis the price a dealer will pay for your car why are\\nparts being replaced with second hand versions the onus is\\non the insurer to replace and restore an insured item to the same position it\\nwas prior to a loss says moloi so should the insured opt to claim for the\\nreplacement of a 5 year old engine the insurer may settle with a fully functional\\nsecond hand engine provided it is of similar quality why were\\nmy extras excluded in my settlement amount additional\\nfeatures like mag wheels music systems and sun roofs must be specified when\\ntaking out the insurance policy as this increases the value of the vehicle and in turn affects monthly premiums should you not specifically list these\\nextras your vehicle will only be insured based on its original form and value which means any add ons will not be replaced when it is time to claim why do\\nyou settle with the bank when a financed vehicle is written off if your\\nvehicle is currently financed it is technically still owned by the bank despite you being the insured party why am i\\nbeing investigated any claim\\nsubmitted to insurance must be validated and thoroughly investigated to ensure\\nthat the loss took place within the bounds of the policy so for instance you\\nmight have been burgled without having activated your alarm system something\\nthat could potentially invalidate your claim if this was a condition stipulated\\nin the initial terms of your contract', '.https://www.fin24.com/Money/insurance-claims-101-your-questions-answered-20190127', 'Fin24', '27 Jan 2019']]\n",
      "\n"
     ]
    },
    {
     "name": "stderr",
     "output_type": "stream",
     "text": [
      "C:\\Users\\kekishor\\Anaconda3\\lib\\site-packages\\urllib3\\connectionpool.py:858: InsecureRequestWarning: Unverified HTTPS request is being made. Adding certificate verification is strongly advised. See: https://urllib3.readthedocs.io/en/latest/advanced-usage.html#ssl-warnings\n",
      "  InsecureRequestWarning)\n"
     ]
    },
    {
     "name": "stdout",
     "output_type": "stream",
     "text": [
      "Insurance Business UK 4 hours ago <class 'str'>\n",
      "[['Total Claims Solutions boosts board', 'total claims solutions which launched a rebranded website in late january in time for the firms scottish expansion has added a new face to its roster of directors nigel allen former chief executive of slater gordon solutions motor has been tapped to become part of the total claims solutions board the move comes ahead of april 01 the day claims management companies cmcs including those in scotland start being regulated by the financial conduct authority fca oversight of cmcs will be transferred from the claims management regulator which is currently responsible for the regulatory regime in england and wales the regulation will be extended to scotland as per the financial guidance and claims act 2018 i am thrilled to have joined the board at total claims solutions commented allen who brings more than two decades of claims management experience to the role this is such a pivotal moment for claimants in scotland and should result in the customer being put back in charge i cant wait to help total claims solutions achieve this meanwhile the claims management company is also poised to bank on the expertise of existing directors rob davidson and mick conway their experience operating under the current more stringent regulation which is enforced in england and wales will they hope be beneficial when entering the scottish market following the reforms on april 01 stated total claims solutions commenting on the developments davidson pointed to so many exciting things in the offing with nigel onboard and the brand and new website looking state of the art we look forward to expanding our services still further and optimising the claims experience for the customer he said catastrophes took their toll but its not all bad news in these times no company is really insulated from whats going on in other parts of the world insurer among the list of firms to have made it its post brexit destination', '.https://www.insurancebusinessmag.com/uk/news/auto-motor/total-claims-solutions-boosts-board-158201.aspx', 'Insurance Business UK', '2019-02-11']]\n",
      "\n"
     ]
    },
    {
     "name": "stderr",
     "output_type": "stream",
     "text": [
      "C:\\Users\\kekishor\\Anaconda3\\lib\\site-packages\\urllib3\\connectionpool.py:858: InsecureRequestWarning: Unverified HTTPS request is being made. Adding certificate verification is strongly advised. See: https://urllib3.readthedocs.io/en/latest/advanced-usage.html#ssl-warnings\n",
      "  InsecureRequestWarning)\n"
     ]
    },
    {
     "name": "stdout",
     "output_type": "stream",
     "text": [
      "Canstar 7 hours ago <class 'str'>\n",
      "[[\"What the banking royal commission's report could mean for insurance\", 'in the final report commissioner kenneth hayne outlined a total of 15 recommendations relating to the insurance sector including an outright ban of the use of cold calling or hawking to sell insurance products during the commissions public hearings stories surfaced demonstrating aggressive sales tactics used by some insurance agents to make a sale including a case where a man with down syndrome was signed up for more than usd100 000 worth of life insurance policies he did not understand hayne said these cases showed why unsolicited sales calls should be prohibited as they could allow the unscrupulous to prey upon the unsuspecting canstar research and ratings manager mitchell watson said if this ban was to come into effect then insurers would only be allowed to discuss a product directly related to a consumers enquiry that will mean you the consumer are at a point where you may have undertaken some research and decided this is the provider you want to have that conversation with to see if its the right product for you he said another one of haynes major insurance proposals is to defer the sale of add on insurance currently salespeople can upsell products when processing the sale of another product for example people purchasing a car or credit product can be sold insurance which in some circumstances may be of low value to them or not relevant to their needs mr watson said under haynes proposal salespeople would no longer be able to immediately sell this add on insurance and instead would have to sell it separately at a later date this removes the pressure from the sale and then the consumer can consider whether that product is right for them at a later time when the sales representative may get in contact with them he said in addition to this deferred sales model hayne proposed a cap to be placed on the commissions car dealers can earn when they make add on insurance sales in the final report hayne suggested a change to the way the regulator could deal with the claims handling process he proposed the handling and settlement of insurance claims or potential claims be included under the definition of financial service under the corporations act mr watson said this meant there would be more emphasis on insurers to act efficiently honestly and fairly when it came to settlement negotiations and claim approvals this change would also give more power to corporate regulator asic to intervene in the handling of claims and to penalise insurers who breach these standards sign up to receive more news like this straight to your inbox copyright 2019 canstar pty limited ar 443019 | this advice is general and has not taken into account your objectives financial situation or needs consider whether this advice is right for you consider the product disclosure statement before making a purchase decision canstar provides an information service it is not a credit provider and in giving you information about credit products canstar is not making any suggestion or recommendation to you about a particular credit product statistics referenced on this page have been verified by canstar research research provided by canstar research afsl and australian credit licence no 437917', '.https://www.canstar.com.au/car-insurance/banking-royal-commission-report-insurance/', 'Canstar', '2019-02-11']]\n",
      "\n"
     ]
    },
    {
     "name": "stderr",
     "output_type": "stream",
     "text": [
      "C:\\Users\\kekishor\\Anaconda3\\lib\\site-packages\\urllib3\\connectionpool.py:858: InsecureRequestWarning: Unverified HTTPS request is being made. Adding certificate verification is strongly advised. See: https://urllib3.readthedocs.io/en/latest/advanced-usage.html#ssl-warnings\n",
      "  InsecureRequestWarning)\n"
     ]
    },
    {
     "name": "stdout",
     "output_type": "stream",
     "text": [
      "The Tribune 6 days ago <class 'str'>\n",
      "[['Hisar farmers on dharna over insurance claims', 'infighting in the city unit of the bjp turned murkier after a woman councillor of the party farmila reportedly tried to assault mayor rajesh kalia with a mike at a public function at shahpur colony near dadu majra today became the first hip hop track to win a song of the year grammy on sunday while lady gaga dominated the early awards and former us first lady michelle obama made a surprise appearance at the event deepender deswal tribune news service hisar february 4 the farmers said they were given an assurance by the district authorities on october 1 last year that they would be provided claims for their damaged crops but nothing had been done after untimely rain and hail damaged cotton and paddy crops in their fields farmers applied for insurance claims which were turned down on the plea that they had not deposited premium and their crops were not insured enraged farmers locked the bank branch in bhatol jatan village on october 1 later it was found that the bank had deducted premium but deposited it with the insurance firm after the last date the firm had rejected the claims and deposited the premium amounts into farmers accounts anil singh sarpanch of bhatol jatan said they had taken up the matter with bank officials who assured them that they would find a way out his crop on seven and a half acres had been damaged and he too was denied insurance claim bank officials asked us to wait till january 1 but nothing happened we have no option but to start a dharna he said politicians visited the dharna site to extend support we have not got any assurance from the bank or the authorities he said the dharna would continue till affected farmers got their insurance claims hansi sdm rajiv ahlawat said the local branch of bank of baroda had taken up the matter with the higher authorities infighting in the city unit of the bjp turned murkier after a woman councillor of the party farmila reportedly tried to assault mayor rajesh kalia with a mike at a public function at shahpur colony near dadu majra today', '.https://www.tribuneindia.com/news/haryana/hisar-farmers-on-dharna-over-insurance-claims/724177.html', 'The Tribune', '2019-02-04']]\n",
      "\n"
     ]
    }
   ],
   "source": [
    "final_data = pd.DataFrame(columns = ['News', 'Content', 'Link', 'News_Source', 'Time'])\n",
    "for keys  in keywords:\n",
    "    final_data = pd.concat([final_data, scrap_headline_window(keys, number_of_news, days)], axis = 0)\n",
    "# final_data.set_index('News', inplace = True)\n",
    "\n",
    "\n",
    "# # Process to write the data into the excel file as a backup for future purposes\n",
    "# writer = pd.ExcelWriter(r'D:\\\\Users\\\\kekishor\\\\Desktop\\\\project\\\\filtered_extract\\\\' + company + '.xlsx', engine='xlsxwriter')\n",
    "# final_data.to_excel(writer)\n",
    "# workbook = writer.book\n",
    "# worksheet = writer.sheets['Sheet1']\n",
    "# wrap_format = workbook.add_format({'text_wrap' : True})\n",
    "\n",
    "# worksheet.set_column('A:A', 70, wrap_format)\n",
    "# worksheet.set_column('B:B', 100, wrap_format)\n",
    "# worksheet.set_column('C:C', 80, wrap_format)\n",
    "# worksheet.set_column('D:D', 20, wrap_format)\n",
    "\n",
    "# writer.save()\n",
    "# writer.close()"
   ]
  },
  {
   "cell_type": "code",
   "execution_count": 31,
   "metadata": {},
   "outputs": [
    {
     "data": {
      "text/html": [
       "<div>\n",
       "<style scoped>\n",
       "    .dataframe tbody tr th:only-of-type {\n",
       "        vertical-align: middle;\n",
       "    }\n",
       "\n",
       "    .dataframe tbody tr th {\n",
       "        vertical-align: top;\n",
       "    }\n",
       "\n",
       "    .dataframe thead th {\n",
       "        text-align: right;\n",
       "    }\n",
       "</style>\n",
       "<table border=\"1\" class=\"dataframe\">\n",
       "  <thead>\n",
       "    <tr style=\"text-align: right;\">\n",
       "      <th></th>\n",
       "      <th>News</th>\n",
       "      <th>Content</th>\n",
       "      <th>Link</th>\n",
       "      <th>News_Source</th>\n",
       "      <th>Time</th>\n",
       "    </tr>\n",
       "  </thead>\n",
       "  <tbody>\n",
       "    <tr>\n",
       "      <th>0</th>\n",
       "      <td>A more holistic approach needed to to simplify...</td>\n",
       "      <td>last month i attended a conference organised b...</td>\n",
       "      <td>.https://www.moneycontrol.com/news/business/pe...</td>\n",
       "      <td>Moneycontrol.com</td>\n",
       "      <td>2019-02-06</td>\n",
       "    </tr>\n",
       "    <tr>\n",
       "      <th>0</th>\n",
       "      <td>North Queensland flood victims need banks and ...</td>\n",
       "      <td>banks and insurers should lift their socks and...</td>\n",
       "      <td>.https://www.abc.net.au/news/2019-02-10/queens...</td>\n",
       "      <td>ABC News</td>\n",
       "      <td>2019-02-09</td>\n",
       "    </tr>\n",
       "    <tr>\n",
       "      <th>0</th>\n",
       "      <td>Influx of insurance claims for flood damage</td>\n",
       "      <td>follow us as locals continued to count the cos...</td>\n",
       "      <td>.https://live.racq.com.au/2019/02/influx-of-in...</td>\n",
       "      <td>RACQ Live</td>\n",
       "      <td>2019-02-09</td>\n",
       "    </tr>\n",
       "    <tr>\n",
       "      <th>0</th>\n",
       "      <td>Pravasi insurance settles 812 claims to the tu...</td>\n",
       "      <td>as many as 812 insurance claims of deaths and ...</td>\n",
       "      <td>.https://www.connectedtoindia.com/pravasi-insu...</td>\n",
       "      <td>Connected to India</td>\n",
       "      <td>2019-02-11</td>\n",
       "    </tr>\n",
       "    <tr>\n",
       "      <th>0</th>\n",
       "      <td>Weather queries to back insurance claims on th...</td>\n",
       "      <td>the regional meteorological centre in the last...</td>\n",
       "      <td>.https://www.thehindu.com/news/cities/chennai/...</td>\n",
       "      <td>The Hindu</td>\n",
       "      <td>2019-02-07</td>\n",
       "    </tr>\n",
       "    <tr>\n",
       "      <th>0</th>\n",
       "      <td>Revealed: Weirdest NZ pet insurance claims of ...</td>\n",
       "      <td>southern cross pet insurance has released its ...</td>\n",
       "      <td>.https://www.insurancebusinessmag.com/nz/news/...</td>\n",
       "      <td>Insurance Business New Zealand</td>\n",
       "      <td>2019-02-06</td>\n",
       "    </tr>\n",
       "    <tr>\n",
       "      <th>0</th>\n",
       "      <td>Insurance claims 101: Your questions answered</td>\n",
       "      <td>links to the websites of major municipalities ...</td>\n",
       "      <td>.https://www.fin24.com/Money/insurance-claims-...</td>\n",
       "      <td>Fin24</td>\n",
       "      <td>27 Jan 2019</td>\n",
       "    </tr>\n",
       "    <tr>\n",
       "      <th>0</th>\n",
       "      <td>Total Claims Solutions boosts board</td>\n",
       "      <td>total claims solutions which launched a rebran...</td>\n",
       "      <td>.https://www.insurancebusinessmag.com/uk/news/...</td>\n",
       "      <td>Insurance Business UK</td>\n",
       "      <td>2019-02-11</td>\n",
       "    </tr>\n",
       "    <tr>\n",
       "      <th>0</th>\n",
       "      <td>What the banking royal commission's report cou...</td>\n",
       "      <td>in the final report commissioner kenneth hayne...</td>\n",
       "      <td>.https://www.canstar.com.au/car-insurance/bank...</td>\n",
       "      <td>Canstar</td>\n",
       "      <td>2019-02-11</td>\n",
       "    </tr>\n",
       "    <tr>\n",
       "      <th>0</th>\n",
       "      <td>Hisar farmers on dharna over insurance claims</td>\n",
       "      <td>infighting in the city unit of the bjp turned ...</td>\n",
       "      <td>.https://www.tribuneindia.com/news/haryana/his...</td>\n",
       "      <td>The Tribune</td>\n",
       "      <td>2019-02-04</td>\n",
       "    </tr>\n",
       "  </tbody>\n",
       "</table>\n",
       "</div>"
      ],
      "text/plain": [
       "                                                News  \\\n",
       "0  A more holistic approach needed to to simplify...   \n",
       "0  North Queensland flood victims need banks and ...   \n",
       "0        Influx of insurance claims for flood damage   \n",
       "0  Pravasi insurance settles 812 claims to the tu...   \n",
       "0  Weather queries to back insurance claims on th...   \n",
       "0  Revealed: Weirdest NZ pet insurance claims of ...   \n",
       "0      Insurance claims 101: Your questions answered   \n",
       "0                Total Claims Solutions boosts board   \n",
       "0  What the banking royal commission's report cou...   \n",
       "0      Hisar farmers on dharna over insurance claims   \n",
       "\n",
       "                                             Content  \\\n",
       "0  last month i attended a conference organised b...   \n",
       "0  banks and insurers should lift their socks and...   \n",
       "0  follow us as locals continued to count the cos...   \n",
       "0  as many as 812 insurance claims of deaths and ...   \n",
       "0  the regional meteorological centre in the last...   \n",
       "0  southern cross pet insurance has released its ...   \n",
       "0  links to the websites of major municipalities ...   \n",
       "0  total claims solutions which launched a rebran...   \n",
       "0  in the final report commissioner kenneth hayne...   \n",
       "0  infighting in the city unit of the bjp turned ...   \n",
       "\n",
       "                                                Link  \\\n",
       "0  .https://www.moneycontrol.com/news/business/pe...   \n",
       "0  .https://www.abc.net.au/news/2019-02-10/queens...   \n",
       "0  .https://live.racq.com.au/2019/02/influx-of-in...   \n",
       "0  .https://www.connectedtoindia.com/pravasi-insu...   \n",
       "0  .https://www.thehindu.com/news/cities/chennai/...   \n",
       "0  .https://www.insurancebusinessmag.com/nz/news/...   \n",
       "0  .https://www.fin24.com/Money/insurance-claims-...   \n",
       "0  .https://www.insurancebusinessmag.com/uk/news/...   \n",
       "0  .https://www.canstar.com.au/car-insurance/bank...   \n",
       "0  .https://www.tribuneindia.com/news/haryana/his...   \n",
       "\n",
       "                      News_Source         Time  \n",
       "0                Moneycontrol.com   2019-02-06  \n",
       "0                        ABC News   2019-02-09  \n",
       "0                       RACQ Live   2019-02-09  \n",
       "0              Connected to India   2019-02-11  \n",
       "0                       The Hindu   2019-02-07  \n",
       "0  Insurance Business New Zealand   2019-02-06  \n",
       "0                           Fin24  27 Jan 2019  \n",
       "0           Insurance Business UK   2019-02-11  \n",
       "0                         Canstar   2019-02-11  \n",
       "0                     The Tribune   2019-02-04  "
      ]
     },
     "execution_count": 31,
     "metadata": {},
     "output_type": "execute_result"
    }
   ],
   "source": [
    "final_data"
   ]
  },
  {
   "cell_type": "code",
   "execution_count": null,
   "metadata": {},
   "outputs": [],
   "source": []
  },
  {
   "cell_type": "code",
   "execution_count": 40,
   "metadata": {},
   "outputs": [],
   "source": []
  },
  {
   "cell_type": "code",
   "execution_count": 126,
   "metadata": {},
   "outputs": [],
   "source": []
  },
  {
   "cell_type": "markdown",
   "metadata": {},
   "source": [
    "# ---------------------------------------------------------------------------------------"
   ]
  },
  {
   "cell_type": "code",
   "execution_count": 8,
   "metadata": {},
   "outputs": [],
   "source": []
  },
  {
   "cell_type": "code",
   "execution_count": 9,
   "metadata": {},
   "outputs": [
    {
     "data": {
      "text/plain": [
       "['claims']"
      ]
     },
     "execution_count": 9,
     "metadata": {},
     "output_type": "execute_result"
    }
   ],
   "source": []
  },
  {
   "cell_type": "code",
   "execution_count": null,
   "metadata": {},
   "outputs": [],
   "source": []
  }
 ],
 "metadata": {
  "kernelspec": {
   "display_name": "Python 3",
   "language": "python",
   "name": "python3"
  },
  "language_info": {
   "codemirror_mode": {
    "name": "ipython",
    "version": 3
   },
   "file_extension": ".py",
   "mimetype": "text/x-python",
   "name": "python",
   "nbconvert_exporter": "python",
   "pygments_lexer": "ipython3",
   "version": "3.6.4"
  }
 },
 "nbformat": 4,
 "nbformat_minor": 2
}
